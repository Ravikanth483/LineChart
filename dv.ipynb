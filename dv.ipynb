{
 "cells": [
  {
   "cell_type": "code",
   "execution_count": 6,
   "id": "b2838d1f",
   "metadata": {},
   "outputs": [],
   "source": [
    "##import pandas as pd\n",
    "\n",
    "# Assuming data_sample.csv is in the same directory\n",
    "#data = pd.read_csv(\"C:/Users/saibu/OneDrive/Desktop/dv assignment/data.csv\")\n",
    "\n",
    "# Calculate Actual Cost and Sold Price\n",
    "#data[\"ActualCost\"] = data[\"RawMaterial\"] + data[\"Workmanship\"] + data[\"StorageCost\"]\n",
    "#data[\"SoldPrice\"] = data[\"EstimatedCost\"] * 1.1\n",
    "\n",
    "# Calculate Margin of Profit\n",
    "#data[\"Margin of Profit\"] = data[\"SoldPrice\"] - data[\"ActualCost\"]\n",
    "\n",
    "# Select desired columns\n",
    "#data = data[[\"date\", \"EstimatedCost\", \"RawMaterial\",\n",
    "              #\"Workmanship\", \"StorageCost\", \"ActualCost\",\n",
    "              #\"SoldPrice\", \"Margin of Profit\"]]\n",
    "\n",
    "#print(data)\n"
   ]
  },
  {
   "cell_type": "code",
   "execution_count": null,
   "id": "7942d2ce",
   "metadata": {},
   "outputs": [],
   "source": []
  },
  {
   "cell_type": "code",
   "execution_count": 5,
   "id": "d218de95",
   "metadata": {},
   "outputs": [
    {
     "name": "stdout",
     "output_type": "stream",
     "text": [
      "Data has been saved to ~/Downloads/Dv_Assignment/output1.csv\n"
     ]
    }
   ],
   "source": [
    "import pandas as pd\n",
    "# Assuming data_sample.csv is in the same directory\n",
    "data = pd.read_csv(\"data_sample.csv\")\n",
    "\n",
    "# Calculate Actual Cost and Sold Price\n",
    "data[\"ActualCost\"] = data[\"RawMaterial\"] + data[\"Workmanship\"] + data[\"StorageCost\"]\n",
    "data[\"SoldPrice\"] = data[\"EstimatedCost\"] * 1.1\n",
    "\n",
    "# Calculate Margin of Profit\n",
    "data[\"Margin of Profit\"] = data[\"SoldPrice\"] - data[\"ActualCost\"]\n",
    "\n",
    "# Select desired columns\n",
    "data = data[[\"date\", \"EstimatedCost\", \"RawMaterial\",\n",
    "              \"Workmanship\", \"StorageCost\", \"ActualCost\",\n",
    "              \"SoldPrice\", \"Margin of Profit\"]]\n",
    "\n",
    "# Specify the file path for the output CSV file\n",
    "output_file_path = '~/Downloads/Dv_Assignment/output1.csv'\n",
    "\n",
    "# Save the DataFrame to a CSV file\n",
    "data.to_csv(output_file_path, index=False)\n",
    "\n",
    "print(f'Data has been saved to {output_file_path}')"
   ]
  },
  {
   "cell_type": "code",
   "execution_count": 7,
   "id": "b1d6aebb",
   "metadata": {},
   "outputs": [
    {
     "name": "stdout",
     "output_type": "stream",
     "text": [
      "Data has been saved to ~/Downloads/Dv_Assignment/output.csv\n"
     ]
    }
   ],
   "source": [
    "import pandas as pd\n",
    "\n",
    "# Assuming data_sample.csv is in the same directory\n",
    "data = pd.read_csv(\"data_sample.csv\")\n",
    "\n",
    "# Calculate Actual Cost and Sold Price\n",
    "data[\"ActualCost\"] = data[\"RawMaterial\"] + data[\"Workmanship\"] + data[\"StorageCost\"]\n",
    "data[\"SoldPrice\"] = data[\"EstimatedCost\"] * 1.1\n",
    "\n",
    "# Calculate Margin of Profit\n",
    "data[\"Margin of Profit\"] = data[\"SoldPrice\"] - data[\"ActualCost\"]\n",
    "\n",
    "# Round values to two decimal places\n",
    "data = data.round({\"EstimatedCost\": 2, \"RawMaterial\": 2, \"Workmanship\": 2, \"StorageCost\": 2, \n",
    "                   \"ActualCost\": 2, \"SoldPrice\": 2, \"Margin of Profit\": 2})\n",
    "\n",
    "# Select desired columns\n",
    "data = data[[\"date\", \"EstimatedCost\", \"RawMaterial\", \"Workmanship\", \"StorageCost\", \"ActualCost\", \"SoldPrice\", \"Margin of Profit\"]]\n",
    "\n",
    "# Specify the file path for the output CSV file\n",
    "output_file_path = '~/Downloads/Dv_Assignment/output.csv'\n",
    "\n",
    "# Save the DataFrame to a CSV file\n",
    "data.to_csv(output_file_path, index=False)\n",
    "\n",
    "print(f'Data has been saved to {output_file_path}')\n"
   ]
  }
 ],
 "metadata": {
  "kernelspec": {
   "display_name": "base",
   "language": "python",
   "name": "python3"
  },
  "language_info": {
   "codemirror_mode": {
    "name": "ipython",
    "version": 3
   },
   "file_extension": ".py",
   "mimetype": "text/x-python",
   "name": "python",
   "nbconvert_exporter": "python",
   "pygments_lexer": "ipython3",
   "version": "3.12.7"
  }
 },
 "nbformat": 4,
 "nbformat_minor": 5
}
